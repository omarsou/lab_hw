{
 "cells": [
  {
   "cell_type": "markdown",
   "metadata": {},
   "source": [
    "# Lab 3: Stochastic Gradient Descent"
   ]
  },
  {
   "cell_type": "markdown",
   "metadata": {},
   "source": [
    "The goal of this lab session is to code an optimization algorithm that optimzes the penalized loss function of the logistic regression model."
   ]
  },
  {
   "cell_type": "code",
   "execution_count": 1,
   "metadata": {},
   "outputs": [],
   "source": [
    "%matplotlib inline\n",
    "import matplotlib.pyplot as plt\n",
    "import seaborn as sns; sns.set()\n",
    "import numpy as np\n",
    "import pandas as pd\n",
    "from sklearn.model_selection import train_test_split"
   ]
  },
  {
   "cell_type": "markdown",
   "metadata": {},
   "source": [
    "We import the dataset that we are going to use, an indian dataset including in the last column information about the diabetes status of patients:"
   ]
  },
  {
   "cell_type": "code",
   "execution_count": 2,
   "metadata": {},
   "outputs": [],
   "source": [
    "data = pd.read_csv(\"w8a/w8a.csv\", sep=\";\", header=None)\n",
    "\n",
    "X = data.iloc[:, :-1].to_numpy()\n",
    "y = data.iloc[:, -1].to_numpy()\n",
    "\n",
    "X_train, X_test, y_train, y_test = train_test_split(X, y, test_size=0.33, random_state=42)"
   ]
  },
  {
   "cell_type": "markdown",
   "metadata": {},
   "source": [
    "## Logistic Regression\n",
    "\n"
   ]
  },
  {
   "cell_type": "markdown",
   "metadata": {},
   "source": [
    "Today we’ll be moving from linear regression to logistic regression, one of the simplest ways to deal with a classification problem. Instead of fitting a line, logistic regression models the probability that the outcome is 1 given the value of the predictor. In order to do this we need a function that transforms our predictor variable to a value between 0 and 1. Lots of functions can do that, but the logistic function is the most common choice:\n",
    "\n",
    "$$f(z) = \\frac{1}{1+\\exp{-z}}.$$\n",
    "\n",
    "To predict the class of our observations we'll have to minimize the corresponding loss function and as we are in a high-dimensional context we'll add an $l_2$ regularization to the model:\n",
    "\n",
    "$$L(\\textbf{w}) = \\sum_{i=1}^n log(1+\\exp(-y_i\\textbf{w}^Tx_i))+\\frac{\\lambda}{2} \\| \\textbf{w} \\|^2,$$\n",
    "\n",
    "where $x_i$ is the vector of features for the observation $i$ and $y_i \\in \\{-1, 1\\}$ is the class label.  \n"
   ]
  },
  {
   "cell_type": "markdown",
   "metadata": {},
   "source": [
    "We first use the `sklearn` implementation:"
   ]
  },
  {
   "cell_type": "code",
   "execution_count": 3,
   "metadata": {},
   "outputs": [],
   "source": [
    "from sklearn.linear_model import LogisticRegression\n",
    "model = LogisticRegression(penalty=\"l2\", C=2) \n",
    "model.fit(X_train, y_train)\n",
    "y_pred = model.predict(X_test)"
   ]
  },
  {
   "cell_type": "markdown",
   "metadata": {},
   "source": [
    "and we compute the accuracy score to evaluate the model performance:"
   ]
  },
  {
   "cell_type": "code",
   "execution_count": 4,
   "metadata": {},
   "outputs": [
    {
     "data": {
      "text/plain": [
       "0.985320989158241"
      ]
     },
     "execution_count": 4,
     "metadata": {},
     "output_type": "execute_result"
    }
   ],
   "source": [
    "from sklearn.metrics import accuracy_score\n",
    "accuracy_score(y_test, y_pred)"
   ]
  },
  {
   "cell_type": "markdown",
   "metadata": {},
   "source": [
    "### Assignment\n",
    "\n",
    "Implement from scratch your own logistic regression model with stochastic gradient descent optimization. \n",
    "\n",
    "- Write the expression of loss  and gradient for a batch\n",
    "\n",
    "- Display the evolution of the cost function along iterations. Do this for several strategies for the setting of the learning rate\n",
    "\n",
    "- Try the different acceleration strategies\n",
    "\n",
    "- Train the model with the training set and evaluate its performance in the test set"
   ]
  },
  {
   "cell_type": "markdown",
   "metadata": {},
   "source": [
    "#### ML Implementation that we have seen in the course"
   ]
  },
  {
   "cell_type": "code",
   "execution_count": 40,
   "metadata": {},
   "outputs": [],
   "source": [
    "import copy\n",
    "\n",
    "class StochasticLogisticRegression():\n",
    "    \"\"\" Class for logistic regression:\n",
    "    \n",
    "    Attributes:\n",
    "    -----------\n",
    "    coef_: 1-dimensional np.array\n",
    "        coefficients \n",
    "    alpha_: float\n",
    "        regularization parameter\n",
    "    lr_: float\n",
    "        the learning rate\n",
    "    bsize: integer\n",
    "        the size of the mini-batch >=1\n",
    "    coef_history_: list\n",
    "        the list of all visited betas\n",
    "    f_history_: list \n",
    "        the list of all evaluations in visited betas\n",
    "    \"\"\"\n",
    "    def __init__(self, alpha):\n",
    "        self.coef_  = None\n",
    "        self.alpha_ = alpha\n",
    "        self.lr_     = None\n",
    "        self.coef_history_ = []\n",
    "        self.loss_history = []\n",
    "\n",
    "    def logistic(self, z):\n",
    "        # logistic function\n",
    "        return 1 / (1 + np.exp(-z))\n",
    "        \n",
    "    def fit(self, X, y, start=None, lr=1e-1, bsize=50, max_iter=500):\n",
    "        \"\"\" Fit the data (X, y).\n",
    "    \n",
    "        Parameters:\n",
    "        -----------\n",
    "        X: (num_samples, num_features) np.array\n",
    "            Design matrix\n",
    "        y: (num_sampes, ) np.array\n",
    "            Output vector\n",
    "        \n",
    "        Note:\n",
    "        -----\n",
    "        Updates self.coef_\n",
    "        \"\"\"   \n",
    "        n_data, n_features = X.shape\n",
    "        ones_column = np.ones((n_data, 1))\n",
    "        X_ = np.concatenate((X, ones_column), axis = 1)\n",
    "        self.coef_ = np.random.random((n_features+1,))\n",
    "        self.lr_ = lr\n",
    "        for epoch in range(max_iter):\n",
    "            epochLoss = []\n",
    "            for (batchX, batchY) in self.next_batch(X_, y, bsize):\n",
    "                loss = self.compute_loss(batchX, batchY)\n",
    "                epochLoss.append(np.sum(loss ** 2))\n",
    "                grad = self.compute_grad(batchX, batchY)\n",
    "                self.coef_ -= self.lr_ * grad\n",
    "            self.loss_history.append(np.average(epochLoss))\n",
    "        \n",
    "    def compute_loss(self, X, y):\n",
    "        '''Compute the logistic loss over all observations'''\n",
    "        z = - y * (X @ self.coef_.reshape(-1,1))\n",
    "        loss = np.sum(np.log(1 + np.exp(z))) + (self.alpha_ / 2) * np.linalg.norm(self.coef_)\n",
    "        return loss\n",
    "    \n",
    "    def compute_grad(self, X, y):\n",
    "        '''Compute a minibatch gradient'''      \n",
    "        z = - y * self.logistic(- y * (X @ self.coef_.reshape(1, -1).T))\n",
    "        grad = np.sum(z * X, axis=0) + self.alpha_ * self.coef_\n",
    "        return grad\n",
    "    \n",
    "    @staticmethod\n",
    "    def next_batch(X, y, batchSize):\n",
    "        # loop over our dataset `X` in mini-batches of size `batchSize`\n",
    "        for i in np.arange(0, X.shape[0], batchSize):\n",
    "            # yield a tuple of the current batched data and labels\n",
    "            yield (X[i:i + batchSize], y[i:i + batchSize])\n",
    "            \n",
    "    def predict_proba(self, X):\n",
    "        n_data, n_features = X.shape\n",
    "        ones_column = np.ones((n_data, 1))\n",
    "        X_ = np.concatenate((X, ones_column), axis = 1)\n",
    "        return self.logistic((X_ @ self.coef_.reshape(-1, 1))).reshape(-1)\n",
    "    \n",
    "    def predict(self, X, threshold = 0.5):\n",
    "        \"\"\" Make binary predictions for data X.\n",
    "    \n",
    "        Parameters:\n",
    "        -----------\n",
    "        X: (num_samples, num_features) np.array\n",
    "            Design matrix\n",
    "        \n",
    "        Returns:\n",
    "        -----\n",
    "        y_pred: (num_samples, ) np.array\n",
    "            Predictions (-1 or 1)\n",
    "        \"\"\"\n",
    "        predictions = self.predict_proba(X)\n",
    "        predictions[predictions >= threshold] = 1\n",
    "        predictions[predictions < threshold] = -1\n",
    "        return predictions"
   ]
  },
  {
   "cell_type": "code",
   "execution_count": 41,
   "metadata": {},
   "outputs": [],
   "source": [
    "model = StochasticLogisticRegression(alpha=2) \n",
    "model.fit(X_train, y_train.reshape(-1, 1), bsize=100, max_iter=500)\n",
    "y_pred = model.predict(X_test)"
   ]
  },
  {
   "cell_type": "code",
   "execution_count": 42,
   "metadata": {},
   "outputs": [
    {
     "data": {
      "text/plain": [
       "0.9696065294189304"
      ]
     },
     "execution_count": 42,
     "metadata": {},
     "output_type": "execute_result"
    }
   ],
   "source": [
    "accuracy_score(y_test, y_pred)"
   ]
  },
  {
   "cell_type": "code",
   "execution_count": 44,
   "metadata": {},
   "outputs": [
    {
     "data": {
      "text/plain": [
       "Text(0.5, 1.0, 'Loss function')"
      ]
     },
     "execution_count": 44,
     "metadata": {},
     "output_type": "execute_result"
    },
    {
     "data": {
      "image/png": "[encoded data removed]",
      "text/plain": [
       "<Figure size 432x288 with 1 Axes>"
      ]
     },
     "metadata": {},
     "output_type": "display_data"
    }
   ],
   "source": [
    "plt.plot(model.loss_history)\n",
    "plt.title('Loss function')"
   ]
  },
  {
   "cell_type": "code",
   "execution_count": 45,
   "metadata": {},
   "outputs": [
    {
     "name": "stdout",
     "output_type": "stream",
     "text": [
      "For threshold = 0.2, the accuracy score is equal to 0.8531489828237301\n",
      "\n",
      "--------------------------------------------------\n",
      "For threshold = 0.3, the accuracy score is equal to 0.9699719819710074\n",
      "\n",
      "--------------------------------------------------\n",
      "For threshold = 0.35, the accuracy score is equal to 0.970154708247046\n",
      "\n",
      "--------------------------------------------------\n",
      "For threshold = 0.4, the accuracy score is equal to 0.9696674381776099\n",
      "\n",
      "--------------------------------------------------\n",
      "For threshold = 0.45, the accuracy score is equal to 0.9697283469362894\n",
      "\n",
      "--------------------------------------------------\n",
      "For threshold = 0.5, the accuracy score is equal to 0.9696065294189304\n",
      "\n",
      "--------------------------------------------------\n"
     ]
    }
   ],
   "source": [
    "thresholds = [0.20, 0.30, 0.35,0.40, 0.45, 0.50]\n",
    "for thresh in thresholds:\n",
    "    y_pred = model.predict(X_test, thresh)\n",
    "    print(f'For threshold = {thresh}, the accuracy score is equal to {accuracy_score(y_test, y_pred)}')\n",
    "    print()\n",
    "    print('-'*50)"
   ]
  },
  {
   "cell_type": "markdown",
   "metadata": {},
   "source": [
    "I don't know why but it's overfitting, maybe it's the way I compute the mini batch gradient descent ... That's why I tried with the classical implementation of Logistic Regression below"
   ]
  },
  {
   "cell_type": "markdown",
   "metadata": {},
   "source": [
    "#### Classical ML Implementation\n",
    "The loss function here is just \n",
    "$$L(\\textbf{w}) = \\sum_{i=1}^n (y_i - logistic(\\textbf{w}^Tx_i))+\\frac{\\lambda}{2} \\| \\textbf{w} \\|^2,$$"
   ]
  },
  {
   "cell_type": "code",
   "execution_count": 46,
   "metadata": {},
   "outputs": [],
   "source": [
    "import copy\n",
    "\n",
    "class StochasticLogisticRegressionV1():\n",
    "    \"\"\" Class for logistic regression:\n",
    "    \n",
    "    Attributes:\n",
    "    -----------\n",
    "    coef_: 1-dimensional np.array\n",
    "        coefficients \n",
    "    alpha_: float\n",
    "        regularization parameter\n",
    "    lr_: float\n",
    "        the learning rate\n",
    "    bsize: integer\n",
    "        the size of the mini-batch >=1\n",
    "    coef_history_: list\n",
    "        the list of all visited betas\n",
    "    f_history_: list \n",
    "        the list of all evaluations in visited betas\n",
    "    \"\"\"\n",
    "    def __init__(self, alpha):\n",
    "        self.coef_  = None\n",
    "        self.alpha_ = alpha\n",
    "        self.lr_     = None\n",
    "        self.label_0 = None\n",
    "        self.label_1 = None\n",
    "        self.coef_history_ = []\n",
    "        self.f_history_ = []\n",
    "        self.loss_history = []\n",
    "\n",
    "    def logistic(self, z):\n",
    "        # logistic function\n",
    "        return 1 / (1 + np.exp(-z))\n",
    "        \n",
    "    def fit(self, X, y, start=None, lr=1e-1, bsize=50, max_iter=500):\n",
    "        \"\"\" Fit the data (X, y).\n",
    "    \n",
    "        Parameters:\n",
    "        -----------\n",
    "        X: (num_samples, num_features) np.array\n",
    "            Design matrix\n",
    "        y: (num_sampes, ) np.array\n",
    "            Output vector\n",
    "        \n",
    "        Note:\n",
    "        -----\n",
    "        Updates self.coef_\n",
    "        \"\"\"   \n",
    "        self.coef_ = np.random.uniform(size=(X.shape[1]+1,))\n",
    "        X = np.c_[np.ones((X.shape[0])), X]\n",
    "        self.lr_ = lr\n",
    "        labels = sorted(list(set(list(y))))\n",
    "        self.label_0 = labels[0]\n",
    "        self.label_1 = labels[1]\n",
    "        y_new = copy.deepcopy(y)\n",
    "        y_new[y_new == self.label_0] = float(0)\n",
    "        y_new[y_new == self.label_1] = float(1)\n",
    "        for epoch in range(max_iter):\n",
    "            epochLoss = []\n",
    "            for (batchX, batchY) in self.next_batch(X, y_new, bsize):\n",
    "                loss = self.compute_loss(batchX, batchY)\n",
    "                epochLoss.append(np.sum(loss ** 2))\n",
    "                grad = self.compute_grad(batchX, loss)\n",
    "                self.coef_ -= self.lr_ * grad\n",
    "            self.loss_history.append(np.average(epochLoss))\n",
    "\n",
    "        \n",
    "        def f_lr(beta):\n",
    "            '''evaluate the F=\\sum_{i=1}^n f_i in beta'''\n",
    "        \n",
    "    def compute_loss(self, X, y):\n",
    "        '''Compute the logistic loss over all observations'''\n",
    "        yhat = self.logistic(X @ self.coef_)\n",
    "        loss = yhat - y\n",
    "        return loss\n",
    "    \n",
    "    def compute_grad(self, X, loss):\n",
    "        '''Compute a minibatch gradient'''\n",
    "        N = X.shape[0]\n",
    "        delta_grad = (1/N) * (((X.T @ loss)) + self.alpha_ * np.sum(self.coef_))\n",
    "        return delta_grad\n",
    "    \n",
    "    @staticmethod\n",
    "    def next_batch(X, y, batchSize):\n",
    "        # loop over our dataset `X` in mini-batches of size `batchSize`\n",
    "        for i in np.arange(0, X.shape[0], batchSize):\n",
    "            # yield a tuple of the current batched data and labels\n",
    "            yield (X[i:i + batchSize], y[i:i + batchSize])\n",
    "            \n",
    "    def predict_proba(self, X):\n",
    "        return self.logistic((X @ self.coef_[1:]) + self.coef_[0])\n",
    "    \n",
    "    def predict(self, X, threshold = 0.5):\n",
    "        \"\"\" Make binary predictions for data X.\n",
    "    \n",
    "        Parameters:\n",
    "        -----------\n",
    "        X: (num_samples, num_features) np.array\n",
    "            Design matrix\n",
    "        \n",
    "        Returns:\n",
    "        -----\n",
    "        y_pred: (num_samples, ) np.array\n",
    "            Predictions (-1 or 1)\n",
    "        \"\"\"\n",
    "        predictions = []\n",
    "        for x in X:\n",
    "            if self.predict_proba(x) >= threshold:\n",
    "                predictions.append(self.label_1)\n",
    "            else:\n",
    "                predictions.append(self.label_0)\n",
    "        return np.array(predictions)"
   ]
  },
  {
   "cell_type": "markdown",
   "metadata": {},
   "source": [
    "Apply to the data"
   ]
  },
  {
   "cell_type": "code",
   "execution_count": 54,
   "metadata": {},
   "outputs": [],
   "source": [
    "model = StochasticLogisticRegressionV1(alpha=2) \n",
    "model.fit(X_train, y_train, bsize=100)\n",
    "y_pred = model.predict(X_test)"
   ]
  },
  {
   "cell_type": "code",
   "execution_count": 48,
   "metadata": {},
   "outputs": [
    {
     "data": {
      "text/plain": [
       "0.984468266536728"
      ]
     },
     "execution_count": 48,
     "metadata": {},
     "output_type": "execute_result"
    }
   ],
   "source": [
    "accuracy_score(y_pred, y_test)"
   ]
  },
  {
   "cell_type": "code",
   "execution_count": 49,
   "metadata": {},
   "outputs": [
    {
     "data": {
      "text/plain": [
       "Text(0.5, 1.0, 'Loss function')"
      ]
     },
     "execution_count": 49,
     "metadata": {},
     "output_type": "execute_result"
    },
    {
     "data": {
      "image/png": "[encoded data removed]",
      "text/plain": [
       "<Figure size 432x288 with 1 Axes>"
      ]
     },
     "metadata": {},
     "output_type": "display_data"
    }
   ],
   "source": [
    "plt.plot(model.loss_history)\n",
    "plt.title('Loss function')"
   ]
  },
  {
   "cell_type": "code",
   "execution_count": 50,
   "metadata": {},
   "outputs": [
    {
     "name": "stdout",
     "output_type": "stream",
     "text": [
      "For threshold = 0.2, the accuracy score is equal to 0.9833110001218175\n",
      "\n",
      "--------------------------------------------------\n",
      "For threshold = 0.3, the accuracy score is equal to 0.9840419052259715\n",
      "\n",
      "--------------------------------------------------\n",
      "For threshold = 0.35, the accuracy score is equal to 0.9848946278474845\n",
      "\n",
      "--------------------------------------------------\n",
      "For threshold = 0.4, the accuracy score is equal to 0.9846509928127665\n",
      "\n",
      "--------------------------------------------------\n",
      "For threshold = 0.45, the accuracy score is equal to 0.984468266536728\n",
      "\n",
      "--------------------------------------------------\n",
      "For threshold = 0.5, the accuracy score is equal to 0.984468266536728\n",
      "\n",
      "--------------------------------------------------\n"
     ]
    }
   ],
   "source": [
    "thresholds = [0.20, 0.30, 0.35,0.40, 0.45, 0.50]\n",
    "for thresh in thresholds:\n",
    "    y_pred = model.predict(X_test, thresh)\n",
    "    print(f'For threshold = {thresh}, the accuracy score is equal to {accuracy_score(y_test, y_pred)}')\n",
    "    print()\n",
    "    print('-'*50)"
   ]
  },
  {
   "cell_type": "markdown",
   "metadata": {},
   "source": [
    "Implement only one acceleration method and compare the results"
   ]
  },
  {
   "cell_type": "code",
   "execution_count": 51,
   "metadata": {},
   "outputs": [],
   "source": [
    "class Adam():\n",
    "    \"\"\" Class for logistic regression:\n",
    "    \n",
    "    Attributes:\n",
    "    -----------\n",
    "    coef_: 1-dimensional np.array\n",
    "        coefficients \n",
    "    alpha_: float\n",
    "        regularization parameter\n",
    "    lr_: float\n",
    "        the learning rate\n",
    "    bsize: integer\n",
    "        the size of the mini-batch >=1\n",
    "    coef_history_: list\n",
    "        the list of all visited betas\n",
    "    f_history_: list \n",
    "        the list of all evaluations in visited betas\n",
    "    \"\"\"\n",
    "    def __init__(self, lr=1e-3, gamma=0.9, beta=0.999, max_iter=100,\n",
    "                 lambd=0., batch_size=1, eps=1e-10, debias=True):\n",
    "        self.lamda_ = lambd\n",
    "        self.lr_ = lr\n",
    "        self.batch_size_ = batch_size\n",
    "        self.first_moment_history_ = None\n",
    "        self.second_moment_history_ = None\n",
    "        self.gamma_ = gamma\n",
    "        self.beta_ = beta\n",
    "        self.eps_ = eps\n",
    "        self.coef_ = None\n",
    "        self.debias_ = debias\n",
    "        self.label_0 = None\n",
    "        self.label_1 = None\n",
    "        self.loss_history = []\n",
    "\n",
    "    def logistic(self, z):\n",
    "        # logistic function\n",
    "        return 1 / (1 + np.exp(-z))\n",
    "        \n",
    "    def fit(self, X, y, start=None, lr=1e-1, bsize=50, max_iter=500):\n",
    "        \"\"\" Fit the data (X, y).\n",
    "    \n",
    "        Parameters:\n",
    "        -----------\n",
    "        X: (num_samples, num_features) np.array\n",
    "            Design matrix\n",
    "        y: (num_sampes, ) np.array\n",
    "            Output vector\n",
    "        \n",
    "        Note:\n",
    "        -----\n",
    "        Updates self.coef_\n",
    "        \"\"\"   \n",
    "        self.coef_ = np.random.uniform(size=(X.shape[1]+1,))\n",
    "        self.first_moment_history = np.zeros(X.shape[1]+1)\n",
    "        self.second_moment_history = np.zeros(X.shape[1]+1)\n",
    "        X = np.c_[np.ones((X.shape[0])), X]\n",
    "        self.lr_ = lr\n",
    "        labels = sorted(list(set(list(y))))\n",
    "        self.label_0 = labels[0]\n",
    "        self.label_1 = labels[1]\n",
    "        y_new = copy.deepcopy(y)\n",
    "        y_new[y_new == self.label_0] = float(0)\n",
    "        y_new[y_new == self.label_1] = float(1)\n",
    "        for epoch in range(max_iter):\n",
    "            epochLoss = []\n",
    "            for (batchX, batchY) in self.next_batch(X, y_new, bsize):\n",
    "                loss = self.compute_loss(batchX, batchY)\n",
    "                epochLoss.append(np.sum(loss ** 2))\n",
    "                grad = self.compute_grad(batchX, loss)\n",
    "                first_moment = self.gamma_ * self.first_moment_history + (1-self.gamma_) * grad\n",
    "                second_moment = self.beta_ * self.second_moment_history + (1-self.beta_) * np.square(grad)\n",
    "                self.first_moment_history, self.second_moment_history = first_moment, second_moment\n",
    "                mt = first_moment / (1 - self.gamma_)\n",
    "                vt = second_moment / (1 - self.beta_)\n",
    "                self.coef_ -= self.lr_ * ( mt / np.sqrt(vt) + self.eps_)\n",
    "            self.loss_history.append(np.average(epochLoss))\n",
    "\n",
    "        \n",
    "        def f_lr(beta):\n",
    "            '''evaluate the F=\\sum_{i=1}^n f_i in beta'''\n",
    "        \n",
    "    def compute_loss(self, X, y):\n",
    "        '''Compute the logistic loss over all observations'''\n",
    "        yhat = self.logistic(X @ self.coef_)\n",
    "        loss = yhat - y\n",
    "        return loss\n",
    "    \n",
    "    def compute_grad(self, X, loss):\n",
    "        '''Compute a minibatch gradient'''\n",
    "        N = X.shape[0]\n",
    "        delta_grad = (1/N) * (((X.T @ loss)) + self.lamda_ * np.sum(self.coef_))\n",
    "        return delta_grad\n",
    "    \n",
    "    @staticmethod\n",
    "    def next_batch(X, y, batchSize):\n",
    "        # loop over our dataset `X` in mini-batches of size `batchSize`\n",
    "        for i in np.arange(0, X.shape[0], batchSize):\n",
    "            # yield a tuple of the current batched data and labels\n",
    "            yield (X[i:i + batchSize], y[i:i + batchSize])\n",
    "            \n",
    "    def predict_proba(self, X):\n",
    "        return self.logistic((X @ self.coef_[1:]) + self.coef_[0])\n",
    "    \n",
    "    def predict(self, X, threshold = 0.5):\n",
    "        \"\"\" Make binary predictions for data X.\n",
    "    \n",
    "        Parameters:\n",
    "        -----------\n",
    "        X: (num_samples, num_features) np.array\n",
    "            Design matrix\n",
    "        \n",
    "        Returns:\n",
    "        -----\n",
    "        y_pred: (num_samples, ) np.array\n",
    "            Predictions (-1 or 1)\n",
    "        \"\"\"\n",
    "        predictions = []\n",
    "        for x in X:\n",
    "            if self.predict_proba(x) >= threshold:\n",
    "                predictions.append(self.label_1)\n",
    "            else:\n",
    "                predictions.append(self.label_0)\n",
    "        return np.array(predictions)"
   ]
  },
  {
   "cell_type": "code",
   "execution_count": 55,
   "metadata": {},
   "outputs": [],
   "source": [
    "model_speedup = Adam(lambd=2)\n",
    "model_speedup.fit(X_train, y_train, bsize=100)\n",
    "y_pred = model_speedup.predict(X_test)"
   ]
  },
  {
   "cell_type": "code",
   "execution_count": 56,
   "metadata": {},
   "outputs": [
    {
     "data": {
      "text/plain": [
       "0.986295529297113"
      ]
     },
     "execution_count": 56,
     "metadata": {},
     "output_type": "execute_result"
    }
   ],
   "source": [
    "accuracy_score(y_pred, y_test)"
   ]
  },
  {
   "cell_type": "code",
   "execution_count": 57,
   "metadata": {},
   "outputs": [
    {
     "data": {
      "text/plain": [
       "Text(0.5, 1.0, 'Comparision between Normal and Adam')"
      ]
     },
     "execution_count": 57,
     "metadata": {},
     "output_type": "execute_result"
    },
    {
     "data": {
      "image/png": "[encoded data removed]",
      "text/plain": [
       "<Figure size 432x288 with 1 Axes>"
      ]
     },
     "metadata": {},
     "output_type": "display_data"
    }
   ],
   "source": [
    "a, = plt.plot(model.loss_history)\n",
    "b, = plt.plot(model_speedup.loss_history)\n",
    "plt.legend((a, b), ('No Accelerated Loss', 'Adam Loss'))\n",
    "plt.title('Comparision between Normal and Adam')"
   ]
  },
  {
   "cell_type": "markdown",
   "metadata": {},
   "source": [
    "As we can see, the model with Adam converges faster to the minimum that the normal one"
   ]
  },
  {
   "cell_type": "code",
   "execution_count": 58,
   "metadata": {},
   "outputs": [
    {
     "name": "stdout",
     "output_type": "stream",
     "text": [
      "For threshold = 0.2, the accuracy score is equal to 0.983615543915215\n",
      "\n",
      "--------------------------------------------------\n",
      "For threshold = 0.3, the accuracy score is equal to 0.9859909855037154\n",
      "\n",
      "--------------------------------------------------\n",
      "For threshold = 0.35, the accuracy score is equal to 0.9859909855037154\n",
      "\n",
      "--------------------------------------------------\n",
      "For threshold = 0.4, the accuracy score is equal to 0.9863564380557924\n",
      "\n",
      "--------------------------------------------------\n",
      "For threshold = 0.45, the accuracy score is equal to 0.9864173468144719\n",
      "\n",
      "--------------------------------------------------\n",
      "For threshold = 0.5, the accuracy score is equal to 0.986295529297113\n",
      "\n",
      "--------------------------------------------------\n"
     ]
    }
   ],
   "source": [
    "thresholds = [0.20, 0.30, 0.35,0.40, 0.45, 0.50]\n",
    "for thresh in thresholds:\n",
    "    y_pred = model_speedup.predict(X_test, thresh)\n",
    "    print(f'For threshold = {thresh}, the accuracy score is equal to {accuracy_score(y_test, y_pred)}')\n",
    "    print()\n",
    "    print('-'*50)"
   ]
  },
  {
   "cell_type": "markdown",
   "metadata": {},
   "source": [
    "Our best accuracy was 0.9864 which is better than the sklearn implementation !"
   ]
  },
  {
   "cell_type": "markdown",
   "metadata": {},
   "source": [
    "Ressources :\n",
    "https://www.pyimagesearch.com/2016/10/17/stochastic-gradient-descent-sgd-with-python/\n",
    "\n",
    "\n",
    "https://towardsdatascience.com/logistic-regression-using-gradient-descent-optimizer-in-python-485148bd3ff2"
   ]
  }
 ],
 "metadata": {
  "anaconda-cloud": {},
  "kernelspec": {
   "display_name": "Python 3",
   "language": "python",
   "name": "python3"
  },
  "language_info": {
   "codemirror_mode": {
    "name": "ipython",
    "version": 3
   },
   "file_extension": ".py",
   "mimetype": "text/x-python",
   "name": "python",
   "nbconvert_exporter": "python",
   "pygments_lexer": "ipython3",
   "version": "3.8.3"
  }
 },
 "nbformat": 4,
 "nbformat_minor": 2
}
