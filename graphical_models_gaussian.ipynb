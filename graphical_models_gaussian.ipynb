{
 "cells": [
  {
   "cell_type": "markdown",
   "metadata": {},
   "source": [
    "# Lab 8: Graphical Models"
   ]
  },
  {
   "cell_type": "markdown",
   "metadata": {},
   "source": [
    "The goal of this lab session is to code two methods to estimate the structure of undirected gaussian graphical models and compare them."
   ]
  },
  {
   "cell_type": "code",
   "execution_count": 1,
   "metadata": {},
   "outputs": [],
   "source": [
    "import numpy as np\n",
    "import matplotlib.pyplot as plt\n",
    "import seaborn as sns\n",
    "%matplotlib inline\n",
    "sns.set_context('poster')\n",
    "sns.set_color_codes()\n",
    "plot_kwds = {'alpha' : 0.25, 's' : 80, 'linewidths':0}"
   ]
  },
  {
   "cell_type": "markdown",
   "metadata": {},
   "source": [
    "## Graphical Models"
   ]
  },
  {
   "cell_type": "markdown",
   "metadata": {},
   "source": [
    "A graphical model is a probabilistic model for which a graph expresses the conditional dependence structure between random variables. The variables are represented by nodes and the relations between them are represented by edges.\n",
    "\n",
    "### GLasso\n",
    "\n",
    "Graphical Lasso is the name of the optimization problem that estimates the precision matrix of a multivariate gaussian and its name comes from the direct link with graphical models and the regularization term. \n",
    "\n",
    "Fill in the following class that implements the GLasso algorithm optimized by ADMM:"
   ]
  },
  {
   "cell_type": "code",
   "execution_count": 68,
   "metadata": {},
   "outputs": [],
   "source": [
    "from sklearn.covariance import EmpiricalCovariance\n",
    "np.random.seed(77)\n",
    "class my_GLasso():\n",
    "    \n",
    "    def __init__(self, mu, lambd, eps=1e-4, max_iter = 60):\n",
    "        '''\n",
    "        Parameters:\n",
    "        lambda : float\n",
    "            Penalization parameter selected.\n",
    "        mu: float>0\n",
    "        eps : float\n",
    "             Convergence parameter\n",
    "        Attributes:\n",
    "        \n",
    "        covariance_ : numpy.ndarray, shape (n_features, n_features)\n",
    "            Estimated covariance matrix.\n",
    "        precision_ : numpy.ndarray, shape (n_features, n_features)\n",
    "            Estimated precision matrix (inverse covariance).\n",
    "        '''\n",
    "        self.covariance_ = None\n",
    "        self.precision_ = None\n",
    "        self.eps = eps\n",
    "        self.mu = mu\n",
    "        self.lambd = lambd\n",
    "        self.max_iter = max_iter\n",
    "        \n",
    "    def fit(self, X):\n",
    "        \"\"\" Fits the GraphicalLasso model to X.\n",
    "        \n",
    "        Parameters:\n",
    "        -----------\n",
    "        X: (n, p) np.array\n",
    "            Data matrix\n",
    "        \n",
    "        Returns:\n",
    "        -----\n",
    "        self\n",
    "        \"\"\"         \n",
    "        # TODO:\n",
    "        # initialize Y, Z\n",
    "        n, p = X.shape\n",
    "        rd = np.random.rand(p,p)\n",
    "        Y = (rd + rd.T)/2\n",
    "        Z = np.zeros((p,p))\n",
    "        #mean = 1/n * np.sum(X, axis=0)\n",
    "        S = np.zeros((p,p))\n",
    "        #X_ = X - mean\n",
    "        #for i in range(X_.shape[0]):\n",
    "            #S += np.outer(X_[i].ravel(), X_[i].ravel())\n",
    "        #self.covariance_ = np.linalg.inv(1/n * S)\n",
    "        S = EmpiricalCovariance().fit(X).covariance_\n",
    "        self.covariance_ = np.linalg.inv(S)\n",
    "        self.precision_ = np.ones((p,p))\n",
    "        old_precision = np.zeros((p,p))\n",
    "        i = 0\n",
    "        while(not (self.convergence(self.precision_, old_precision))) and  i < self.max_iter:\n",
    "            old_precision = self.precision_\n",
    "            T = Y - Z - (1/self.mu) * self.covariance_\n",
    "            egv_T, egvec_T = np.linalg.eig(T)\n",
    "            self.precision_ = 0.5 * egvec_T.T @ np.diag(egv_T + np.sqrt(np.square(egv_T) + 4/self.mu)) @ egvec_T\n",
    "            Y = self.soft_threshold(self.precision_ + Z, self.lambd/self.mu)\n",
    "            Z += self.mu * (self.precision_ - Y)\n",
    "            i += 1\n",
    "        return self\n",
    "    \n",
    "    def convergence(self, old, new):\n",
    "        return np.linalg.norm(old - new) <= self.eps\n",
    "    \n",
    "    @staticmethod\n",
    "    def soft_threshold(X, thresh):\n",
    "        return np.sign(X) * np.maximum(np.abs(X) - thresh, 0)"
   ]
  },
  {
   "cell_type": "code",
   "execution_count": 146,
   "metadata": {},
   "outputs": [
    {
     "name": "stdout",
     "output_type": "stream",
     "text": [
      "Estimating the precision matrix from 60 samples... \n",
      "\n"
     ]
    },
    {
     "data": {
      "image/png": "[encoded data removed]",
      "text/plain": [
       "<Figure size 1080x360 with 4 Axes>"
      ]
     },
     "metadata": {
      "needs_background": "light"
     },
     "output_type": "display_data"
    }
   ],
   "source": [
    "# Compare methods of estimating the covariance matrix in low-sample regime\n",
    "n_samples = 60\n",
    "n_features = 20\n",
    "\n",
    "print(f'Estimating the precision matrix from {n_samples} samples... \\n')\n",
    "\n",
    "\n",
    "# Simulate data (multivariate gaussian)\n",
    "from sklearn.datasets import make_sparse_spd_matrix\n",
    "rng = np.random.RandomState(1)\n",
    "prec = make_sparse_spd_matrix(n_features, alpha=.98,\n",
    "                              smallest_coef=.4,\n",
    "                              largest_coef=.7,\n",
    "                              random_state=rng)\n",
    "cov = np.linalg.inv(prec)\n",
    "mean = np.zeros(n_features)\n",
    "data = np.random.multivariate_normal(mean, cov, n_samples)\n",
    "err = np.linalg.norm(prec - prec)\n",
    "\n",
    "prec_empirical = np.linalg.inv(np.dot(data.T, data) / n_samples)\n",
    "err_empirical = np.linalg.norm(prec - prec_empirical)\n",
    "\n",
    "# Graphical Lasso with cross validation \n",
    "from sklearn.covariance import GraphicalLassoCV\n",
    "model = GraphicalLassoCV(cv=5)\n",
    "model.fit(data)\n",
    "prec_glassocv = model.precision_\n",
    "err_glassocv = np.linalg.norm(prec - prec_glassocv)\n",
    "\n",
    "# Graphical Lasso estimation using our implementation\n",
    "model = my_GLasso(mu=1, lambd=0.1, max_iter=100)\n",
    "model.fit(data)\n",
    "prec_glasso = model.precision_\n",
    "err_glasso = np.linalg.norm(prec - prec_glasso)\n",
    "vmax = prec_glasso.max()\n",
    "\n",
    "\n",
    "# Visual comparison\n",
    "titles = [\"True\", \"Empirical\", \"GLASSO (us)\", \"GLASSO crossval\"]\n",
    "imgs = [prec, prec_empirical, prec_glasso, prec_glassocv]\n",
    "errors = [err, err_empirical, err_glasso, err_glassocv]\n",
    "\n",
    "ncols = len(titles)\n",
    "fig, axes = plt.subplots(1, ncols, figsize=(15, 5))\n",
    "for idx, ax in enumerate(axes.flatten()):\n",
    "    img = imgs[idx]\n",
    "    error = np.around(errors[idx], decimals=2)\n",
    "    title = titles[idx] + f'\\n error {error}'\n",
    "    ax.imshow(img, vmin=-vmax, vmax=vmax, interpolation='nearest', cmap=plt.cm.RdBu_r)\n",
    "    ax.set_title(title)\n",
    "fig.tight_layout()\n",
    "\n",
    "\n"
   ]
  },
  {
   "cell_type": "markdown",
   "metadata": {},
   "source": [
    "First of all, even with playing around with mu & lambd, I can't have a better Precision Matrix with my implementation. I also try to use differents initialization. The thing is that it's much better than the Empirical Error, so I think it's working. However the model I implemented couldn't find the strong \"correlation\" in blue (in the real precision matrix).\n",
    "\n",
    "We can see that the sklearn implementation performs well. \n",
    "\n",
    "According to the precision matrix (true & glasso), the majority of features in the graph aren't linked between them (in other words, there are few edges) which means that most of them are conditionally independent except for the (5 & 15 / 6 & 16 / 1 & 16)"
   ]
  },
  {
   "cell_type": "markdown",
   "metadata": {},
   "source": [
    "### Nodewise Regression\n",
    "\n",
    "Fill in the following class that implements the nodewise regression algorithm to estimate a graphical model structure. You can use `LassoCV` for the regressions. Bonus (not graded): Implement your own cross-validation lasso."
   ]
  },
  {
   "cell_type": "code",
   "execution_count": 212,
   "metadata": {},
   "outputs": [
    {
     "name": "stderr",
     "output_type": "stream",
     "text": [
      "<>:38: SyntaxWarning: \"is\" with a literal. Did you mean \"==\"?\n",
      "<>:40: SyntaxWarning: \"is\" with a literal. Did you mean \"==\"?\n",
      "<>:38: SyntaxWarning: \"is\" with a literal. Did you mean \"==\"?\n",
      "<>:40: SyntaxWarning: \"is\" with a literal. Did you mean \"==\"?\n",
      "<ipython-input-212-aaef3f0dd566>:38: SyntaxWarning: \"is\" with a literal. Did you mean \"==\"?\n",
      "  if self.rule is 'OR':\n",
      "<ipython-input-212-aaef3f0dd566>:40: SyntaxWarning: \"is\" with a literal. Did you mean \"==\"?\n",
      "  elif self.rule is 'AND':\n"
     ]
    }
   ],
   "source": [
    "from sklearn.linear_model import LassoCV\n",
    "\n",
    "class my_nodewise_regression():\n",
    "    \n",
    "    def __init__(self, rule):\n",
    "        '''\n",
    "        Parameters:\n",
    "        \n",
    "        rule: {\"OR\", \"AND\"}\n",
    "        \n",
    "        Attributes:\n",
    "        \n",
    "        covariance_structure_ : numpy.ndarray, shape (n_features, n_features)\n",
    "            Estimated covariance matrix.        \n",
    "        '''\n",
    "        self.graph_structure_ = None\n",
    "        self.rule = rule\n",
    "        self.coefs_ = list()\n",
    "        \n",
    "    def fit(self, X, cv=3, n_alphas=100):\n",
    "        \"\"\" Fit the model to X.\n",
    "        \n",
    "        Parameters:\n",
    "        -----------\n",
    "        X: (n, p) np.array\n",
    "            Data matrix\n",
    "        \n",
    "        Returns:\n",
    "        -----\n",
    "        self\n",
    "        \"\"\" \n",
    "        n, p = X.shape\n",
    "        for i in range(p):\n",
    "            X_train = X[:, np.arange(p) !=i]\n",
    "            y = X[:,i]\n",
    "            reg = LassoCV(cv=cv, n_alphas=n_alphas, random_state=0).fit(X_train,y)\n",
    "            self.coefs_.append(reg.coef_)\n",
    "        if self.rule is 'OR':\n",
    "            self.graph_structure_ = self.build_or(p)\n",
    "        elif self.rule is 'AND':\n",
    "            self.graph_structure_ = self.build_and(p)\n",
    "        return self\n",
    "        \n",
    "        \n",
    "        \n",
    "    def build_or(self, p):\n",
    "        matrix = []\n",
    "        for j in np.arange(0, p):\n",
    "            sub = [0]*(j+1)\n",
    "            for k in np.arange(j+1,p):\n",
    "                if abs(self.coefs_[j-1][k-1]) != 0 or abs(self.coefs_[k-1][j-1]) !=0:\n",
    "                    sub.append(1)\n",
    "                else:\n",
    "                    sub.append(0)\n",
    "            matrix.append(np.array(sub))\n",
    "        matrix = np.array(matrix)\n",
    "        return matrix + matrix.T + np.diag([1]*p)\n",
    "    \n",
    "    def build_and(self, p):\n",
    "        matrix = []\n",
    "        for j in np.arange(0, p):\n",
    "            sub = [0]*(j+1)\n",
    "            for k in np.arange(j+1,p):\n",
    "                if abs(self.coefs_[j-1][k-1]) != 0 and abs(self.coefs_[k-1][j-1]) !=0:\n",
    "                    sub.append(1)\n",
    "                else:\n",
    "                    sub.append(0)\n",
    "            matrix.append(np.array(sub))\n",
    "        matrix = np.array(matrix)\n",
    "        return matrix + matrix.T + np.diag([1]*p)"
   ]
  },
  {
   "cell_type": "markdown",
   "metadata": {},
   "source": [
    "Generate an easy-to-check (non-trivial, p<=6) example and plot the 4 (real, GLasso, AND, OR) graphs. You can use `networkx` to plot the resulting graph."
   ]
  },
  {
   "cell_type": "code",
   "execution_count": 132,
   "metadata": {},
   "outputs": [],
   "source": [
    "n_samples = 30\n",
    "n_features = 6\n",
    "\n",
    "rng = np.random.RandomState(4)\n",
    "\n",
    "# Truth\n",
    "prec = make_sparse_spd_matrix(n_features, alpha=.96,\n",
    "                              smallest_coef=0.2,\n",
    "                              largest_coef=0.8,\n",
    "                              random_state=rng)\n",
    "cov = np.linalg.inv(prec)\n",
    "mean = np.zeros(n_features)\n",
    "data = np.random.multivariate_normal(mean, cov, n_samples)\n",
    "err = np.linalg.norm(prec - prec)\n",
    "\n",
    "\n",
    "# Graphical Lasso with cross validation \n",
    "model = GraphicalLassoCV(cv=5)\n",
    "model.fit(data)\n",
    "prec_glassocv = model.precision_\n",
    "err_glassocv = np.linalg.norm(prec - prec_glassocv)\n",
    "\n",
    "# Nodewise AND\n",
    "model_AND = my_nodewise_regression(rule='AND')\n",
    "model_AND.fit(data, cv=5)\n",
    "prec_and = model_AND.graph_structure_\n",
    "err_and = np.linalg.norm(prec - prec_and)\n",
    "\n",
    "# Nodewise OR\n",
    "model_OR = my_nodewise_regression(rule='OR')\n",
    "model_OR.fit(data, cv=5)\n",
    "prec_OR = model_OR.graph_structure_\n",
    "err_OR = np.linalg.norm(prec - prec_OR)\n",
    "\n",
    "# Visual comparison\n",
    "titles = [\"True\", \"Glasso\", \"NW Regression with AND\", \"NW Regression with OR\"]\n",
    "imgs = [prec, prec_glassocv, prec_and, prec_OR]\n",
    "errors = [err, err_glasso, err_and, err_OR]"
   ]
  },
  {
   "cell_type": "code",
   "execution_count": 133,
   "metadata": {},
   "outputs": [],
   "source": [
    "from networkx.convert_matrix import from_numpy_matrix\n",
    "import networkx as nx"
   ]
  },
  {
   "cell_type": "code",
   "execution_count": 134,
   "metadata": {},
   "outputs": [
    {
     "data": {
      "image/png": "[encoded data removed]",
      "text/plain": [
       "<Figure size 720x720 with 4 Axes>"
      ]
     },
     "metadata": {},
     "output_type": "display_data"
    }
   ],
   "source": [
    "ncols = len(titles)\n",
    "fig, axes = plt.subplots(1, ncols, figsize=(10, 10))\n",
    "for idx, ax in enumerate(axes.flatten()):\n",
    "    img = imgs[idx]\n",
    "    error = np.around(errors[idx], decimals=2)\n",
    "    title = titles[idx] + f'\\n error {error}'\n",
    "    nx.draw_networkx(from_numpy_matrix(img),ax=ax)\n",
    "    ax.set_title(title)\n",
    "fig.tight_layout()"
   ]
  },
  {
   "cell_type": "markdown",
   "metadata": {},
   "source": [
    "Only Glass could capture the correlation between the features."
   ]
  },
  {
   "cell_type": "markdown",
   "metadata": {},
   "source": [
    "## Simulations\n",
    "\n",
    "Compare the two graph estimators for each of the following models with $p = 300$ and $n = 40, 80, 320$:\n",
    "\n",
    "- An AR(1)-Block model. In this model the *covariance* matrix is block-diagonal with equalsized AR(1)-blocks of the form $(\\Sigma_{Block})_{i, j} = 0.9^{|i−j|}$, take $30 \\times 30$ blocks.\n",
    "- The exponential decay model considered in Fan et al. [2009]. In this model we consider a case where no element of the concentration matrix is exactly zero. The elements of $\\Theta$ are given by $\\Theta_{ij} = \\exp{(−2|i − j|)}$ equals essentially zero when the difference |i − j| is large.\n",
    "\n",
    "For GLasso estimation, use cross-validation k-fold with loglikelihood loss to select the $\\lambda$ penalization parameter. Evaluate your estimation using the Froebenius matrix norm. \n",
    "\n",
    "For Node-regression estimation, compare your edge-estimation with the binary (thresholded) covariance matrix. Evaluate your estimation using accuracy and the F1 score. "
   ]
  },
  {
   "cell_type": "code",
   "execution_count": 225,
   "metadata": {},
   "outputs": [
    {
     "data": {
      "text/plain": [
       "0.01831563888873418"
      ]
     },
     "execution_count": 225,
     "metadata": {},
     "output_type": "execute_result"
    }
   ],
   "source": [
    "np.exp(-4)"
   ]
  },
  {
   "cell_type": "code",
   "execution_count": 158,
   "metadata": {},
   "outputs": [
    {
     "data": {
      "text/plain": [
       "(300, 300)"
      ]
     },
     "execution_count": 158,
     "metadata": {},
     "output_type": "execute_result"
    }
   ],
   "source": [
    "block = np.fromfunction(lambda i,j : 0.9**abs(i-j), (30,30))\n",
    "AR_block = np.kron(np.eye(10), block)\n",
    "AR_block.shape"
   ]
  },
  {
   "cell_type": "code",
   "execution_count": 160,
   "metadata": {},
   "outputs": [
    {
     "data": {
      "text/plain": [
       "(300, 300)"
      ]
     },
     "execution_count": 160,
     "metadata": {},
     "output_type": "execute_result"
    }
   ],
   "source": [
    "exp_dec = np.fromfunction(lambda i,j : np.exp(-2*abs(i-j)), (300,300))\n",
    "exp_dec.shape"
   ]
  },
  {
   "cell_type": "markdown",
   "metadata": {},
   "source": [
    "## Glasso"
   ]
  },
  {
   "cell_type": "code",
   "execution_count": 164,
   "metadata": {},
   "outputs": [],
   "source": [
    "errors_glasso_AR = []\n",
    "n_samples = [40, 80, 320]\n",
    "n_features = 300\n",
    "cov = np.linalg.inv(AR_block) \n",
    "mean = np.zeros(n_features)\n",
    "for n in n_samples:\n",
    "    data = np.random.multivariate_normal(mean, cov, n)\n",
    "    model = GraphicalLassoCV(alphas = [0.01, 0.1, 1, 5, 10], cv=4, n_jobs=-1)\n",
    "    model.fit(data)\n",
    "    prec = model.precision_\n",
    "    errors_glasso_AR.append(np.linalg.norm(prec - AR_block))"
   ]
  },
  {
   "cell_type": "code",
   "execution_count": 175,
   "metadata": {},
   "outputs": [],
   "source": [
    "errors_glasso_EXP = []\n",
    "cov = np.linalg.inv(exp_dec) \n",
    "mean = np.zeros(n_features)\n",
    "for n in n_samples:\n",
    "    data = np.random.multivariate_normal(mean, cov, n)\n",
    "    model = GraphicalLassoCV(alphas = [0.01, 0.1, 1, 5, 10], cv=4, n_jobs=-1)\n",
    "    model.fit(data)\n",
    "    prec = model.precision_\n",
    "    errors_glasso_EXP.append(np.linalg.norm(prec - exp_dec))"
   ]
  },
  {
   "cell_type": "markdown",
   "metadata": {},
   "source": [
    "## NodeWise"
   ]
  },
  {
   "cell_type": "code",
   "execution_count": 187,
   "metadata": {},
   "outputs": [],
   "source": [
    "import copy\n",
    "threshold_AR = np.std(AR_block) - np.mean(AR_block)\n",
    "threshold_exp = np.std(exp_dec) - np.mean(exp_dec)\n",
    "AR_bin = copy.deepcopy(AR_block)\n",
    "EXP_bin = copy.deepcopy(exp_dec)\n",
    "AR_bin[AR_bin <= threshold_AR] = 0\n",
    "AR_bin[AR_bin > threshold_AR] = 1\n",
    "EXP_bin[EXP_bin <= threshold_exp] = 0\n",
    "EXP_bin[EXP_bin > threshold_exp] = 1\n",
    "EXP_bin = EXP_bin.astype(int)\n",
    "AR_bin = AR_bin.astype(int)"
   ]
  },
  {
   "cell_type": "code",
   "execution_count": 213,
   "metadata": {
    "collapsed": true
   },
   "outputs": [
    {
     "name": "stderr",
     "output_type": "stream",
     "text": [
      "/Users/omarsouaidi/opt/miniconda3/lib/python3.8/site-packages/sklearn/linear_model/_coordinate_descent.py:529: ConvergenceWarning: Objective did not converge. You might want to increase the number of iterations. Duality gap: 0.06449351144637369, tolerance: 0.027079185578865118\n",
      "  model = cd_fast.enet_coordinate_descent(\n",
      "/Users/omarsouaidi/opt/miniconda3/lib/python3.8/site-packages/sklearn/linear_model/_coordinate_descent.py:529: ConvergenceWarning: Objective did not converge. You might want to increase the number of iterations. Duality gap: 0.06951906545563878, tolerance: 0.03686561805691632\n",
      "  model = cd_fast.enet_coordinate_descent(\n",
      "/Users/omarsouaidi/opt/miniconda3/lib/python3.8/site-packages/sklearn/linear_model/_coordinate_descent.py:529: ConvergenceWarning: Objective did not converge. You might want to increase the number of iterations. Duality gap: 0.07341956887656079, tolerance: 0.05397362957235155\n",
      "  model = cd_fast.enet_coordinate_descent(\n",
      "/Users/omarsouaidi/opt/miniconda3/lib/python3.8/site-packages/sklearn/linear_model/_coordinate_descent.py:529: ConvergenceWarning: Objective did not converge. You might want to increase the number of iterations. Duality gap: 0.17543987089171928, tolerance: 0.043867783176328556\n",
      "  model = cd_fast.enet_coordinate_descent(\n",
      "/Users/omarsouaidi/opt/miniconda3/lib/python3.8/site-packages/sklearn/linear_model/_coordinate_descent.py:529: ConvergenceWarning: Objective did not converge. You might want to increase the number of iterations. Duality gap: 0.07316370307419301, tolerance: 0.04547253319914237\n",
      "  model = cd_fast.enet_coordinate_descent(\n",
      "/Users/omarsouaidi/opt/miniconda3/lib/python3.8/site-packages/sklearn/linear_model/_coordinate_descent.py:529: ConvergenceWarning: Objective did not converge. You might want to increase the number of iterations. Duality gap: 0.13462380297381082, tolerance: 0.029005036834551603\n",
      "  model = cd_fast.enet_coordinate_descent(\n"
     ]
    }
   ],
   "source": [
    "from sklearn.metrics import accuracy_score, f1_score\n",
    "acc_AR = []\n",
    "f1_AR = []\n",
    "n_samples = [40, 80, 320]\n",
    "n_features = 300\n",
    "cov = np.linalg.inv(AR_block) \n",
    "mean = np.zeros(n_features)\n",
    "for n in n_samples:\n",
    "    data = np.random.multivariate_normal(mean, cov, n)\n",
    "    model = my_nodewise_regression(rule='AND')\n",
    "    model.fit(data, cv=2, n_alphas=50)\n",
    "    prec = model.graph_structure_\n",
    "    acc_AR.append(accuracy_score(AR_bin.flatten(), prec.flatten()))\n",
    "    f1_AR.append(f1_score(AR_bin.flatten(), prec.flatten()))"
   ]
  },
  {
   "cell_type": "code",
   "execution_count": 214,
   "metadata": {
    "collapsed": true
   },
   "outputs": [
    {
     "name": "stderr",
     "output_type": "stream",
     "text": [
      "/Users/omarsouaidi/opt/miniconda3/lib/python3.8/site-packages/sklearn/linear_model/_coordinate_descent.py:529: ConvergenceWarning: Objective did not converge. You might want to increase the number of iterations. Duality gap: 0.022085948711825454, tolerance: 0.02051893316995947\n",
      "  model = cd_fast.enet_coordinate_descent(\n",
      "/Users/omarsouaidi/opt/miniconda3/lib/python3.8/site-packages/sklearn/linear_model/_coordinate_descent.py:529: ConvergenceWarning: Objective did not converge. You might want to increase the number of iterations. Duality gap: 0.012955815709301766, tolerance: 0.012693898267213146\n",
      "  model = cd_fast.enet_coordinate_descent(\n",
      "/Users/omarsouaidi/opt/miniconda3/lib/python3.8/site-packages/sklearn/linear_model/_coordinate_descent.py:529: ConvergenceWarning: Objective did not converge. You might want to increase the number of iterations. Duality gap: 0.019951616895836133, tolerance: 0.017731944730088066\n",
      "  model = cd_fast.enet_coordinate_descent(\n",
      "/Users/omarsouaidi/opt/miniconda3/lib/python3.8/site-packages/sklearn/linear_model/_coordinate_descent.py:529: ConvergenceWarning: Objective did not converge. You might want to increase the number of iterations. Duality gap: 0.018443984595536866, tolerance: 0.017731944730088066\n",
      "  model = cd_fast.enet_coordinate_descent(\n",
      "/Users/omarsouaidi/opt/miniconda3/lib/python3.8/site-packages/sklearn/linear_model/_coordinate_descent.py:529: ConvergenceWarning: Objective did not converge. You might want to increase the number of iterations. Duality gap: 0.020595795457530597, tolerance: 0.01727633998630678\n",
      "  model = cd_fast.enet_coordinate_descent(\n",
      "/Users/omarsouaidi/opt/miniconda3/lib/python3.8/site-packages/sklearn/linear_model/_coordinate_descent.py:529: ConvergenceWarning: Objective did not converge. You might want to increase the number of iterations. Duality gap: 0.02553515978329124, tolerance: 0.018774062001623914\n",
      "  model = cd_fast.enet_coordinate_descent(\n",
      "/Users/omarsouaidi/opt/miniconda3/lib/python3.8/site-packages/sklearn/linear_model/_coordinate_descent.py:529: ConvergenceWarning: Objective did not converge. You might want to increase the number of iterations. Duality gap: 0.01703578718166887, tolerance: 0.016308885309526948\n",
      "  model = cd_fast.enet_coordinate_descent(\n"
     ]
    }
   ],
   "source": [
    "acc_exp = []\n",
    "f1_exp = []\n",
    "n_samples = [40, 80, 320]\n",
    "n_features = 300\n",
    "cov = np.linalg.inv(exp_dec) \n",
    "mean = np.zeros(n_features)\n",
    "for n in n_samples:\n",
    "    data = np.random.multivariate_normal(mean, cov, n)\n",
    "    model = my_nodewise_regression(rule='AND')\n",
    "    model.fit(data, cv=2, n_alphas=50)\n",
    "    prec = model.graph_structure_\n",
    "    acc_exp.append(accuracy_score(EXP_bin.flatten(), prec.flatten()))\n",
    "    f1_exp.append(f1_score(EXP_bin.flatten(), prec.flatten()))"
   ]
  },
  {
   "cell_type": "code",
   "execution_count": 218,
   "metadata": {},
   "outputs": [],
   "source": [
    "import pandas as pd\n",
    "sumup_glasso = pd.DataFrame({'AR': errors_glasso_AR, 'EXP': errors_glasso_EXP}, index=n_samples)\n",
    "sumup_nodewise = pd.DataFrame({'AR_acc': acc_AR, 'EXP_acc': acc_exp, 'AR_f1': f1_AR, 'EXP_f1': f1_exp}, index=n_samples)"
   ]
  },
  {
   "cell_type": "code",
   "execution_count": 219,
   "metadata": {},
   "outputs": [
    {
     "data": {
      "text/html": [
       "<div>\n",
       "<style scoped>\n",
       "    .dataframe tbody tr th:only-of-type {\n",
       "        vertical-align: middle;\n",
       "    }\n",
       "\n",
       "    .dataframe tbody tr th {\n",
       "        vertical-align: top;\n",
       "    }\n",
       "\n",
       "    .dataframe thead th {\n",
       "        text-align: right;\n",
       "    }\n",
       "</style>\n",
       "<table border=\"1\" class=\"dataframe\">\n",
       "  <thead>\n",
       "    <tr style=\"text-align: right;\">\n",
       "      <th></th>\n",
       "      <th>AR</th>\n",
       "      <th>EXP</th>\n",
       "    </tr>\n",
       "  </thead>\n",
       "  <tbody>\n",
       "    <tr>\n",
       "      <th>40</th>\n",
       "      <td>48.349859</td>\n",
       "      <td>5.792348</td>\n",
       "    </tr>\n",
       "    <tr>\n",
       "      <th>80</th>\n",
       "      <td>48.393691</td>\n",
       "      <td>4.510947</td>\n",
       "    </tr>\n",
       "    <tr>\n",
       "      <th>320</th>\n",
       "      <td>47.490535</td>\n",
       "      <td>3.604369</td>\n",
       "    </tr>\n",
       "  </tbody>\n",
       "</table>\n",
       "</div>"
      ],
      "text/plain": [
       "            AR       EXP\n",
       "40   48.349859  5.792348\n",
       "80   48.393691  4.510947\n",
       "320  47.490535  3.604369"
      ]
     },
     "execution_count": 219,
     "metadata": {},
     "output_type": "execute_result"
    }
   ],
   "source": [
    "# GLASSO\n",
    "sumup_glasso.head()"
   ]
  },
  {
   "cell_type": "code",
   "execution_count": 220,
   "metadata": {},
   "outputs": [
    {
     "data": {
      "text/html": [
       "<div>\n",
       "<style scoped>\n",
       "    .dataframe tbody tr th:only-of-type {\n",
       "        vertical-align: middle;\n",
       "    }\n",
       "\n",
       "    .dataframe tbody tr th {\n",
       "        vertical-align: top;\n",
       "    }\n",
       "\n",
       "    .dataframe thead th {\n",
       "        text-align: right;\n",
       "    }\n",
       "</style>\n",
       "<table border=\"1\" class=\"dataframe\">\n",
       "  <thead>\n",
       "    <tr style=\"text-align: right;\">\n",
       "      <th></th>\n",
       "      <th>AR_acc</th>\n",
       "      <th>EXP_acc</th>\n",
       "      <th>AR_f1</th>\n",
       "      <th>EXP_f1</th>\n",
       "    </tr>\n",
       "  </thead>\n",
       "  <tbody>\n",
       "    <tr>\n",
       "      <th>40</th>\n",
       "      <td>0.912711</td>\n",
       "      <td>0.993289</td>\n",
       "      <td>0.074894</td>\n",
       "      <td>0.498339</td>\n",
       "    </tr>\n",
       "    <tr>\n",
       "      <th>80</th>\n",
       "      <td>0.914467</td>\n",
       "      <td>0.993289</td>\n",
       "      <td>0.111291</td>\n",
       "      <td>0.498339</td>\n",
       "    </tr>\n",
       "    <tr>\n",
       "      <th>320</th>\n",
       "      <td>0.915644</td>\n",
       "      <td>0.993378</td>\n",
       "      <td>0.326234</td>\n",
       "      <td>0.503333</td>\n",
       "    </tr>\n",
       "  </tbody>\n",
       "</table>\n",
       "</div>"
      ],
      "text/plain": [
       "       AR_acc   EXP_acc     AR_f1    EXP_f1\n",
       "40   0.912711  0.993289  0.074894  0.498339\n",
       "80   0.914467  0.993289  0.111291  0.498339\n",
       "320  0.915644  0.993378  0.326234  0.503333"
      ]
     },
     "execution_count": 220,
     "metadata": {},
     "output_type": "execute_result"
    }
   ],
   "source": [
    "# NodeWise\n",
    "sumup_nodewise.head()"
   ]
  },
  {
   "cell_type": "markdown",
   "metadata": {},
   "source": [
    "Well except for the f1 score of AR, the number of samples that we have doesn't affect strongly the performance which shows that these estimations can (it always depend on the noise, type of data) work even if we have few data (contrary to other models)"
   ]
  },
  {
   "cell_type": "code",
   "execution_count": 222,
   "metadata": {},
   "outputs": [
    {
     "data": {
      "text/plain": [
       "10.103719188400952"
      ]
     },
     "execution_count": 222,
     "metadata": {},
     "output_type": "execute_result"
    }
   ],
   "source": [
    "np.mean(AR_block) / np.mean(exp_dec)"
   ]
  },
  {
   "cell_type": "code",
   "execution_count": 227,
   "metadata": {},
   "outputs": [
    {
     "data": {
      "text/plain": [
       "43.70869065356567"
      ]
     },
     "execution_count": 227,
     "metadata": {},
     "output_type": "execute_result"
    }
   ],
   "source": [
    "np.log(0.01)/np.log(0.9)"
   ]
  },
  {
   "cell_type": "markdown",
   "metadata": {},
   "source": [
    "The error in AR is bigger than the one of the exponential because it's not the same scale (mean(AR)/mean(exp) = 10) and if you multiply error_exp by 10, you find exp_AR, which shows that the glasso model fit well both distribution.\n",
    "\n",
    "The error seems big but remember now that we have 300*300 = 9000 components"
   ]
  },
  {
   "cell_type": "markdown",
   "metadata": {},
   "source": [
    "I think that the f1_score of exponential model is greater than the one of the AR because of the distribution of the precision matrix. 95% of the variance is on the diagonal element of the exponential matrix (if we move away by at least two indices, the values are smaller than exp(-4) = 0.01 ) in comparison with the AR block matrix (if we want the value to be smaller than 0.01, we need to get np.log(0.01) / np.log(0.9) = 44 indices) .\n",
    "As a consequence, in the nodewise regression, the lasso regression (feature by feature) have more latent variables to catch in the AR block model than the exponential model."
   ]
  }
 ],
 "metadata": {
  "kernelspec": {
   "display_name": "Python 3",
   "language": "python",
   "name": "python3"
  },
  "language_info": {
   "codemirror_mode": {
    "name": "ipython",
    "version": 3
   },
   "file_extension": ".py",
   "mimetype": "text/x-python",
   "name": "python",
   "nbconvert_exporter": "python",
   "pygments_lexer": "ipython3",
   "version": "3.8.3"
  }
 },
 "nbformat": 4,
 "nbformat_minor": 2
}
